{
 "cells": [
  {
   "cell_type": "code",
   "execution_count": 6,
   "metadata": {},
   "outputs": [],
   "source": [
    "'''\n",
    "CS585_Lab3\n",
    "CS585 Image and Video Computing\n",
    "Lab 3\n",
    "--------------\n",
    "This program introduces the following concepts:\n",
    "\ta) Reading a stream of images from a webcamera, and displaying the video\n",
    "\tb) Skin color detection\n",
    "\tc) Background differencing\n",
    "\td) Visualizing motion history\n",
    "--------------\n",
    "'''\n",
    "import cv2\n",
    "import sys\n",
    "import numpy as np"
   ]
  },
  {
   "cell_type": "code",
   "execution_count": 7,
   "metadata": {},
   "outputs": [
    {
     "name": "stdout",
     "output_type": "stream",
     "text": [
      "[[0.18414845 0.02702802 0.2981677  0.71449973 0.07126765]\n",
      " [0.29727774 0.14404016 0.3439188  0.22837683 0.22067639]\n",
      " [0.89987183 0.22451583 0.04297379 0.47160393 0.16711991]\n",
      " [0.90876946 0.55313516 0.11948203 0.83206393 0.74245321]\n",
      " [0.64813063 0.59913891 0.86584315 0.86479954 0.60216285]]\n"
     ]
    }
   ],
   "source": [
    "a = np.random.random((5,5))\n",
    "print(a)"
   ]
  },
  {
   "cell_type": "code",
   "execution_count": 8,
   "metadata": {},
   "outputs": [
    {
     "name": "stdout",
     "output_type": "stream",
     "text": [
      "False\n"
     ]
    }
   ],
   "source": [
    "mask = a > 0.5\n",
    "print(mask.all() or mask.all())"
   ]
  },
  {
   "cell_type": "code",
   "execution_count": 12,
   "metadata": {},
   "outputs": [],
   "source": [
    "def my_skin_detect(src):\n",
    "    '''\n",
    "    Function that detects whether a pixel belongs to the skin based on RGB values\n",
    "    Args: \n",
    "        src The source color image\n",
    "    Returns: \n",
    "        dst The destination grayscale image where skin pixels are colored white and the rest are colored black\n",
    "    Surveys of skin color modeling and detection techniques:\n",
    "    Vezhnevets, Vladimir, Vassili Sazonov, and Alla Andreeva. \"A survey on pixel-based skin color detection techniques.\" Proc. Graphicon. Vol. 3. 2003.\n",
    "    Kakumanu, Praveen, Sokratis Makrogiannis, and Nikolaos Bourbakis. \"A survey of skin-color modeling and detection methods.\" Pattern recognition 40.3 (2007): 1106-1122.\n",
    "    '''\n",
    "    pass\n",
    "\n",
    "def my_frame_differencing(prev, curr):\n",
    "    '''\n",
    "    Function that does frame differencing between the current frame and the previous frame\n",
    "    Args:\n",
    "        src The current color image\n",
    "        prev The previous color image\n",
    "    Returns:\n",
    "        dst The destination grayscale image where pixels are colored white if the corresponding pixel intensities in the current\n",
    "    and previous image are not the same\n",
    "    '''\n",
    "    pass\n",
    "\n",
    "def my_motion_energy(mh):\n",
    "    '''\n",
    "    Function that accumulates the frame differences for a certain number of pairs of frames\n",
    "    Args:\n",
    "        mh Vector of frame difference images\n",
    "    Returns:\n",
    "        dst The destination grayscale image to store the accumulation of the frame difference images\n",
    "    '''\n",
    "    pass"
   ]
  },
  {
   "cell_type": "code",
   "execution_count": 13,
   "metadata": {},
   "outputs": [
    {
     "name": "stdout",
     "output_type": "stream",
     "text": [
      "esc key is pressed by user\n"
     ]
    }
   ],
   "source": [
    "# ----------------\n",
    "# a) Reading a stream of images from a webcamera, and displaying the video\n",
    "# ----------------\n",
    "# For more information on reading and writing video: http://docs.opencv.org/modules/highgui/doc/reading_and_writing_images_and_video.html\n",
    "# open the video camera no. 0\n",
    "cap = cv2.VideoCapture(0)\n",
    "\n",
    "# if not successful, exit program\n",
    "if not cap.isOpened():\n",
    "    print(\"Cannot open the video cam\")\n",
    "    sys.exit()\n",
    "\n",
    "# create a window called \"MyVideo0\"\n",
    "cv2.namedWindow(\"Webcam\", cv2.WINDOW_AUTOSIZE)\n",
    "\n",
    "# read a new frame from video\n",
    "ret, frame0 = cap.read()\n",
    "if not ret:\n",
    "    print(\"Cannot read a frame from video stream\")\n",
    "\n",
    "# show the frame in \"Webcam\" window\n",
    "cv2.imshow(\"Webcam\", frame0)\n",
    "\n",
    "# create windows\n",
    "cv2.namedWindow(\"MyVideo\", cv2.WINDOW_AUTOSIZE)\n",
    "cv2.namedWindow(\"FrameDiff\", cv2.WINDOW_AUTOSIZE)\n",
    "cv2.namedWindow(\"MotionEnergy\", cv2.WINDOW_AUTOSIZE)\n",
    "\n",
    "my_motion_history = []\n",
    "fMH1 = np.zeros(np.shape(frame0), dtype=np.uint8)\n",
    "fMH2 = np.zeros(np.shape(frame0), dtype=np.uint8)\n",
    "fMH3 = np.zeros(np.shape(frame0), dtype=np.uint8)\n",
    "my_motion_history.append(fMH1)\n",
    "my_motion_history.append(fMH2)\n",
    "my_motion_history.append(fMH3)\n",
    "\n",
    "while(1):\n",
    "    # read a new frame from video\n",
    "    ret, frame = cap.read()\n",
    "    # if not successful, break loop\n",
    "    if not ret:\n",
    "        print(\"Cannot read a frame from video stream\")\n",
    "        break\n",
    "\n",
    "    cv2.imshow(\"Webcam\", frame)\n",
    "\n",
    "    # ----------------\n",
    "    # b) Skin color detection\n",
    "    # ----------------\n",
    "    frame_dst = my_skin_detect(frame)\n",
    "    #cv2.imshow(\"Skin\", frame_dst)\n",
    "\n",
    "    # ----------------\n",
    "    # c) Background differencing\n",
    "    # ----------------\n",
    "\n",
    "    # call my_frame_differencing function\n",
    "    frame_dst = my_frame_differencing(frame0, frame)\n",
    "    #cv2.imshow(\"FrameDiff\", frame_dst)\n",
    "\n",
    "    # ----------------\n",
    "    #  d) Visualizing motion history\n",
    "    # ----------------\n",
    "\n",
    "    # call my_motion_energy function\n",
    "    myMH = my_motion_energy(my_motion_history)\n",
    "    #cv2.imshow(\"MotionEnergy\", myMH)\n",
    "    frame0 = frame\n",
    "\n",
    "    # wait for 'esc' key press for 30ms. If 'esc' key is pressed, break loop\n",
    "    if cv2.waitKey(30) == 27:\n",
    "        print(\"esc key is pressed by user\")\n",
    "        break\n",
    "\n",
    "# When everything done, release the capture\n",
    "cap.release()\n",
    "cv2.destroyAllWindows()"
   ]
  },
  {
   "cell_type": "code",
   "execution_count": null,
   "metadata": {},
   "outputs": [],
   "source": []
  }
 ],
 "metadata": {
  "kernelspec": {
   "display_name": "Python 3",
   "language": "python",
   "name": "python3"
  },
  "language_info": {
   "codemirror_mode": {
    "name": "ipython",
    "version": 3
   },
   "file_extension": ".py",
   "mimetype": "text/x-python",
   "name": "python",
   "nbconvert_exporter": "python",
   "pygments_lexer": "ipython3",
   "version": "3.9.0"
  }
 },
 "nbformat": 4,
 "nbformat_minor": 4
}
